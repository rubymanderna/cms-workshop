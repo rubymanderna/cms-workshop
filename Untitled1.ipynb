{
 "cells": [
  {
   "cell_type": "markdown",
   "id": "86628c53",
   "metadata": {},
   "source": [
    "## file parsing lesson\n",
    "Sep 15, 2022"
   ]
  },
  {
   "cell_type": "code",
   "execution_count": 1,
   "id": "15095db4",
   "metadata": {},
   "outputs": [
    {
     "data": {
      "text/plain": [
       "'/Users/ruby/Code/cms-workshop'"
      ]
     },
     "execution_count": 1,
     "metadata": {},
     "output_type": "execute_result"
    }
   ],
   "source": [
    "pwd"
   ]
  },
  {
   "cell_type": "code",
   "execution_count": 2,
   "id": "0cc68169",
   "metadata": {},
   "outputs": [],
   "source": [
    "#not a good way, won't work with windows\n",
    "#ethonal_file = 'data/outfiles/ethonal.out'\n",
    "\n",
    "import os "
   ]
  },
  {
   "cell_type": "code",
   "execution_count": 3,
   "id": "5d349fb4",
   "metadata": {},
   "outputs": [
    {
     "name": "stdout",
     "output_type": "stream",
     "text": [
      "outfiles/ethanol.out\n"
     ]
    }
   ],
   "source": [
    "ethanol_file = os.path.join('outfiles', 'ethanol.out')\n",
    "print(ethanol_file)"
   ]
  },
  {
   "cell_type": "code",
   "execution_count": 4,
   "id": "52c5af47",
   "metadata": {},
   "outputs": [],
   "source": [
    "outfile = open(ethanol_file, 'r')\n",
    "data = outfile.readlines()\n",
    "outfile.close()\n"
   ]
  },
  {
   "cell_type": "code",
   "execution_count": 5,
   "id": "43e538ed",
   "metadata": {},
   "outputs": [
    {
     "name": "stdout",
     "output_type": "stream",
     "text": [
      "['O       -0.054692     -2.392519      1.128673\\n', 'H       -0.536299     -3.165575      1.469220\\n', '}\\n', '\\n', 'set basis cc-pVDZ\\n', \"energy('scf')--------------------------------------------------------------------------\\n\", '\\n', '*** tstart() called on csm-armcdona-m1\\n', '*** at Tue Jun 27 12:10:00 2017\\n', '\\n']\n"
     ]
    }
   ],
   "source": [
    "print(data[40:50])"
   ]
  },
  {
   "cell_type": "code",
   "execution_count": 6,
   "id": "5c4ceb15",
   "metadata": {},
   "outputs": [
    {
     "name": "stdout",
     "output_type": "stream",
     "text": [
      "  @DF-RHF Final Energy:  -154.09130176573018\n",
      "\n"
     ]
    }
   ],
   "source": [
    "for line in data:\n",
    "    if 'Final Energy' in line:\n",
    "        energy_line = line\n",
    "        print(energy_line)"
   ]
  },
  {
   "cell_type": "code",
   "execution_count": 7,
   "id": "fb091151",
   "metadata": {},
   "outputs": [
    {
     "name": "stdout",
     "output_type": "stream",
     "text": [
      "['@DF-RHF', 'Final', 'Energy:', '-154.09130176573018']\n"
     ]
    }
   ],
   "source": [
    "words = energy_line.split()\n",
    "print(words)"
   ]
  },
  {
   "cell_type": "code",
   "execution_count": 8,
   "id": "99c88db0",
   "metadata": {},
   "outputs": [
    {
     "data": {
      "text/plain": [
       "['  @DF-RHF Final Energy', '  -154.09130176573018\\n']"
      ]
     },
     "execution_count": 8,
     "metadata": {},
     "output_type": "execute_result"
    }
   ],
   "source": [
    "energy_line.split(':')"
   ]
  },
  {
   "cell_type": "code",
   "execution_count": 9,
   "id": "5bec5727",
   "metadata": {},
   "outputs": [
    {
     "name": "stdout",
     "output_type": "stream",
     "text": [
      "-154.09130176573018\n"
     ]
    }
   ],
   "source": [
    "energy = words[3]\n",
    "print(energy)"
   ]
  },
  {
   "cell_type": "code",
   "execution_count": null,
   "id": "29e4b0cb",
   "metadata": {},
   "outputs": [],
   "source": []
  },
  {
   "cell_type": "code",
   "execution_count": 12,
   "id": "0ffc78a2",
   "metadata": {},
   "outputs": [
    {
     "data": {
      "text/plain": [
       "str"
      ]
     },
     "execution_count": 12,
     "metadata": {},
     "output_type": "execute_result"
    }
   ],
   "source": [
    "type(energy)"
   ]
  },
  {
   "cell_type": "code",
   "execution_count": 13,
   "id": "91a149c3",
   "metadata": {},
   "outputs": [],
   "source": [
    "energy = float(energy)"
   ]
  },
  {
   "cell_type": "code",
   "execution_count": 14,
   "id": "eba7d5d5",
   "metadata": {},
   "outputs": [
    {
     "data": {
      "text/plain": [
       "float"
      ]
     },
     "execution_count": 14,
     "metadata": {},
     "output_type": "execute_result"
    }
   ],
   "source": [
    "type(energy)"
   ]
  },
  {
   "cell_type": "code",
   "execution_count": 15,
   "id": "b863c96a",
   "metadata": {},
   "outputs": [
    {
     "data": {
      "text/plain": [
       "-104.09130176573018"
      ]
     },
     "execution_count": 15,
     "metadata": {},
     "output_type": "execute_result"
    }
   ],
   "source": [
    "energy + 50"
   ]
  },
  {
   "cell_type": "code",
   "execution_count": 16,
   "id": "ed3cdcc0",
   "metadata": {},
   "outputs": [],
   "source": [
    "import glob"
   ]
  },
  {
   "cell_type": "code",
   "execution_count": 17,
   "id": "6254b4a0",
   "metadata": {},
   "outputs": [
    {
     "name": "stdout",
     "output_type": "stream",
     "text": [
      "['outfiles/propanol.out', 'outfiles/pentanol.out', 'outfiles/decanol.out', 'outfiles/methanol.out', 'outfiles/octanol.out', 'outfiles/ethanol.out', 'outfiles/hexanol.out', 'outfiles/heptanol.out', 'outfiles/butanol.out', 'outfiles/nonanol.out']\n"
     ]
    }
   ],
   "source": [
    "file_location = os.path.join('outfiles','*.out')\n",
    "filenames = glob.glob(file_location)\n",
    "print(filenames)"
   ]
  },
  {
   "cell_type": "code",
   "execution_count": 23,
   "id": "856412cd",
   "metadata": {},
   "outputs": [],
   "source": [
    "#+ means if energies file does not exist, then make one, don't foget to close the file in the end.\n",
    "#\\n command is for next line.\n",
    "\n",
    "datafile = open('energies.txt', 'w+')\n",
    "\n",
    "for file in filenames:\n",
    "    outfile = open(file, 'r')\n",
    "    data = outfile.readlines()\n",
    "    outfile.close()\n",
    "    for line in data:\n",
    "        if 'Final Energy' in line:\n",
    "            energy_line = line\n",
    "            words = energy_line.split()\n",
    "            energy = float(words[3])\n",
    "            datafile.write(F' {file} : {energy} \\n')\n",
    "datafile.close()\n",
    "\n",
    "    "
   ]
  },
  {
   "cell_type": "code",
   "execution_count": null,
   "id": "ca01898a",
   "metadata": {},
   "outputs": [],
   "source": []
  },
  {
   "cell_type": "code",
   "execution_count": null,
   "id": "41446c75",
   "metadata": {},
   "outputs": [],
   "source": []
  }
 ],
 "metadata": {
  "kernelspec": {
   "display_name": "Python 3 (ipykernel)",
   "language": "python",
   "name": "python3"
  },
  "language_info": {
   "codemirror_mode": {
    "name": "ipython",
    "version": 3
   },
   "file_extension": ".py",
   "mimetype": "text/x-python",
   "name": "python",
   "nbconvert_exporter": "python",
   "pygments_lexer": "ipython3",
   "version": "3.9.13"
  }
 },
 "nbformat": 4,
 "nbformat_minor": 5
}
