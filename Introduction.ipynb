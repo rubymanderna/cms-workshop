{
 "cells": [
  {
   "cell_type": "markdown",
   "id": "8bd98b1d",
   "metadata": {},
   "source": [
    "# MoISSI Workshop\n",
    "## Introduction\n",
    "Sep 2022\n",
    "python workshop"
   ]
  },
  {
   "cell_type": "markdown",
   "id": "b6233f44",
   "metadata": {},
   "source": [
    "$ \\Delta G = \\Delta H - T \\Delta S $"
   ]
  },
  {
   "cell_type": "code",
   "execution_count": 1,
   "id": "e2103e9a",
   "metadata": {},
   "outputs": [],
   "source": [
    "deltaH = -548.6 #kj/mole\n",
    "deltaS = 9.0 #Kl/mole K\n",
    "temperature = 987 #Kelvin\n",
    "deltaG = deltaH - temperature*deltaS\n"
   ]
  },
  {
   "cell_type": "code",
   "execution_count": 2,
   "id": "276fb3ae",
   "metadata": {},
   "outputs": [
    {
     "data": {
      "text/plain": [
       "9"
      ]
     },
     "execution_count": 2,
     "metadata": {},
     "output_type": "execute_result"
    }
   ],
   "source": [
    "4+5"
   ]
  },
  {
   "cell_type": "code",
   "execution_count": 3,
   "id": "38188a39",
   "metadata": {},
   "outputs": [
    {
     "name": "stdout",
     "output_type": "stream",
     "text": [
      "-9431.6\n"
     ]
    }
   ],
   "source": [
    "print(deltaG)"
   ]
  },
  {
   "cell_type": "code",
   "execution_count": 4,
   "id": "602a65a0",
   "metadata": {},
   "outputs": [
    {
     "name": "stdout",
     "output_type": "stream",
     "text": [
      "-9431.6\n"
     ]
    }
   ],
   "source": [
    "deltaG*1000\n",
    "print(deltaG)"
   ]
  },
  {
   "cell_type": "code",
   "execution_count": 5,
   "id": "15bb5ef0",
   "metadata": {},
   "outputs": [],
   "source": [
    "deltaG = deltaG*1000"
   ]
  },
  {
   "cell_type": "code",
   "execution_count": 6,
   "id": "e4c99263",
   "metadata": {},
   "outputs": [
    {
     "name": "stdout",
     "output_type": "stream",
     "text": [
      "-9431.6\n"
     ]
    }
   ],
   "source": [
    "deltaH, deltaS, temperature = -548.6, 9.0, 987\n",
    "deltaG = deltaH - temperature*deltaS\n",
    "print(deltaG)"
   ]
  },
  {
   "cell_type": "markdown",
   "id": "b62e61bc",
   "metadata": {},
   "source": [
    "## Data types"
   ]
  },
  {
   "cell_type": "code",
   "execution_count": 7,
   "id": "5f06094b",
   "metadata": {},
   "outputs": [
    {
     "data": {
      "text/plain": [
       "float"
      ]
     },
     "execution_count": 7,
     "metadata": {},
     "output_type": "execute_result"
    }
   ],
   "source": [
    "type(deltaG)"
   ]
  },
  {
   "cell_type": "code",
   "execution_count": 8,
   "id": "297c9b63",
   "metadata": {},
   "outputs": [
    {
     "data": {
      "text/plain": [
       "str"
      ]
     },
     "execution_count": 8,
     "metadata": {},
     "output_type": "execute_result"
    }
   ],
   "source": [
    "deltaG_string = str(deltaG)\n",
    "type(deltaG_string)"
   ]
  },
  {
   "cell_type": "markdown",
   "id": "5bb564f5",
   "metadata": {},
   "source": [
    "## Lists"
   ]
  },
  {
   "cell_type": "code",
   "execution_count": 9,
   "id": "fd7da0e3",
   "metadata": {},
   "outputs": [
    {
     "name": "stdout",
     "output_type": "stream",
     "text": [
      "4\n"
     ]
    }
   ],
   "source": [
    "energy_kcal =[-13.4, -2.7, 5.4, 42.1]\n",
    "energy_length = len(energy_kcal)\n",
    "print(energy_length)"
   ]
  },
  {
   "cell_type": "code",
   "execution_count": 10,
   "id": "a2f6afea",
   "metadata": {},
   "outputs": [
    {
     "name": "stdout",
     "output_type": "stream",
     "text": [
      "the length of the list is 4 .\n"
     ]
    }
   ],
   "source": [
    "print('the length of the list is', energy_length,'.')"
   ]
  },
  {
   "cell_type": "code",
   "execution_count": 11,
   "id": "8a0d32b3",
   "metadata": {},
   "outputs": [
    {
     "name": "stdout",
     "output_type": "stream",
     "text": [
      "the length of the list is 4.\n"
     ]
    }
   ],
   "source": [
    "print(F'the length of the list is {energy_length}.')"
   ]
  },
  {
   "cell_type": "code",
   "execution_count": 12,
   "id": "64688eb6",
   "metadata": {},
   "outputs": [
    {
     "name": "stdout",
     "output_type": "stream",
     "text": [
      "-2.7\n"
     ]
    }
   ],
   "source": [
    "print(energy_kcal[1])"
   ]
  },
  {
   "cell_type": "code",
   "execution_count": 13,
   "id": "a99b1e17",
   "metadata": {},
   "outputs": [
    {
     "name": "stdout",
     "output_type": "stream",
     "text": [
      "42.1\n"
     ]
    }
   ],
   "source": [
    "print(energy_kcal[3])"
   ]
  },
  {
   "cell_type": "code",
   "execution_count": 18,
   "id": "cd85ec30",
   "metadata": {},
   "outputs": [],
   "source": [
    "# new_list = list_name[start:end]\n",
    "short_list = energy_kcal[0:5]"
   ]
  },
  {
   "cell_type": "code",
   "execution_count": 20,
   "id": "c3ccf90c",
   "metadata": {},
   "outputs": [
    {
     "name": "stdout",
     "output_type": "stream",
     "text": [
      "[-13.4, -2.7, 5.4, 42.1]\n"
     ]
    }
   ],
   "source": [
    "print(short_list)"
   ]
  },
  {
   "cell_type": "code",
   "execution_count": 28,
   "id": "b167bc49",
   "metadata": {},
   "outputs": [
    {
     "name": "stdout",
     "output_type": "stream",
     "text": [
      "[-2.7, 5.4, 42.1]\n",
      "[-13.4, -2.7, 5.4]\n"
     ]
    }
   ],
   "source": [
    "slice1 = energy_kcal[1:]\n",
    "slice2 = energy_kcal[:3]\n",
    "print(slice1)\n",
    "print(slice2)"
   ]
  },
  {
   "cell_type": "code",
   "execution_count": 31,
   "id": "b125789e",
   "metadata": {},
   "outputs": [
    {
     "name": "stdout",
     "output_type": "stream",
     "text": [
      "Slice1 is [-2.7, 5.4, 42.1].\n"
     ]
    }
   ],
   "source": [
    "print(F'Slice1 is {slice1}.')"
   ]
  },
  {
   "cell_type": "code",
   "execution_count": 32,
   "id": "33ad5b5d",
   "metadata": {},
   "outputs": [
    {
     "name": "stdout",
     "output_type": "stream",
     "text": [
      "Slice2 is [-13.4, -2.7, 5.4].\n"
     ]
    }
   ],
   "source": [
    "print(F'Slice2 is {slice2}.')"
   ]
  },
  {
   "cell_type": "code",
   "execution_count": 33,
   "id": "bd826f1b",
   "metadata": {},
   "outputs": [
    {
     "name": "stdout",
     "output_type": "stream",
     "text": [
      "-11.296800000000001\n"
     ]
    }
   ],
   "source": [
    "kj = energy_kcal[1]*4.184\n",
    "print(kj)"
   ]
  },
  {
   "cell_type": "code",
   "execution_count": 36,
   "id": "415d1fdd",
   "metadata": {},
   "outputs": [
    {
     "name": "stdout",
     "output_type": "stream",
     "text": [
      "-56.0656\n",
      "-11.296800000000001\n",
      "22.593600000000002\n",
      "176.1464\n"
     ]
    }
   ],
   "source": [
    "#for variable in list:\n",
    "# do things with variable\n",
    "for number in energy_kcal:\n",
    " kj = number * 4.184\n",
    " print(kj)\n"
   ]
  },
  {
   "cell_type": "code",
   "execution_count": 67,
   "id": "0ffa4e25",
   "metadata": {
    "scrolled": true
   },
   "outputs": [
    {
     "name": "stdout",
     "output_type": "stream",
     "text": [
      "[-56.0656]\n",
      "[-56.0656, -11.296800000000001]\n",
      "[-56.0656, -11.296800000000001, 22.593600000000002]\n",
      "[-56.0656, -11.296800000000001, 22.593600000000002, 176.1464]\n"
     ]
    }
   ],
   "source": [
    "#list_name.append(new_thing)\n",
    "energy_kj = []\n",
    "\n",
    "for number in energy_kcal:\n",
    " kj = number * 4.184\n",
    " energy_kj.append(kj)\n",
    " print(energy_kj)"
   ]
  },
  {
   "cell_type": "code",
   "execution_count": 66,
   "id": "ae625d17",
   "metadata": {},
   "outputs": [
    {
     "name": "stdout",
     "output_type": "stream",
     "text": [
      "[-13.4]\n",
      "[-13.4, -2.7]\n",
      "[-13.4, -2.7]\n",
      "[-13.4, -2.7]\n"
     ]
    }
   ],
   "source": [
    "negative_number = []\n",
    "for number in energy_kcal:\n",
    "    if number < 0:\n",
    "        negative_number.append(number)\n",
    "    print(negative_number)"
   ]
  },
  {
   "cell_type": "code",
   "execution_count": null,
   "id": "8a2256fd",
   "metadata": {},
   "outputs": [],
   "source": []
  }
 ],
 "metadata": {
  "kernelspec": {
   "display_name": "Python 3 (ipykernel)",
   "language": "python",
   "name": "python3"
  },
  "language_info": {
   "codemirror_mode": {
    "name": "ipython",
    "version": 3
   },
   "file_extension": ".py",
   "mimetype": "text/x-python",
   "name": "python",
   "nbconvert_exporter": "python",
   "pygments_lexer": "ipython3",
   "version": "3.9.13"
  }
 },
 "nbformat": 4,
 "nbformat_minor": 5
}
